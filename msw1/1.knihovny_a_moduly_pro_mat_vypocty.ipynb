{
 "cells": [
  {
   "attachments": {},
   "cell_type": "markdown",
   "metadata": {},
   "source": [
    "# 1. Knihovny a moduly pro matematické výpočty"
   ]
  },
  {
   "attachments": {},
   "cell_type": "markdown",
   "metadata": {},
   "source": [
    "## Import potřebných balíčků"
   ]
  },
  {
   "cell_type": "code",
   "execution_count": 9,
   "metadata": {
    "is_executing": true
   },
   "outputs": [],
   "source": [
    "import sympy as sp\n",
    "import scipy as sc\n",
    "import numba as nb\n",
    "import numpy as np\n",
    "from timeit import default_timer as timer\n",
    "import sys"
   ]
  },
  {
   "attachments": {},
   "cell_type": "markdown",
   "metadata": {},
   "source": [
    "## Skalární součin\n",
    "### Změříme čas výpočtu skalárního součinu vektorů pomocí čístého pythonu a pomocí numpy"
   ]
  },
  {
   "cell_type": "code",
   "execution_count": 10,
   "metadata": {
    "ExecuteTime": {
     "end_time": "2023-08-20T11:15:16.405142600Z",
     "start_time": "2023-08-20T11:15:16.218854400Z"
    }
   },
   "outputs": [
    {
     "name": "stdout",
     "output_type": "stream",
     "text": [
      "Průměrný čas pro výpočet skalárního součinu v 1000 pokusech čistý python: 3.1827245000049516 ms\n",
      "Průměrný čas pro výpočet skalárního součinu v 1000 pokusech numpy: 0.0220121000038489 ms\n"
     ]
    }
   ],
   "source": [
    "# Fce pro výpočet skálárního součinu dvou vektorů pomocí čistého pythonu\n",
    "def scalar_product(v1, v2):\n",
    "    return sum([v1[i] * v2[i] for i in range(len(v1))])\n",
    "\n",
    "# Fce pro výpočet skálárního součinu dvou vektorů pomocí numpy\n",
    "def np_scalar_product(v1, v2):\n",
    "    return np.dot(v1, v2)\n",
    "\n",
    "# Čas pro výpočet skalárního součinu vektorů pomocí čistého pythonu a pomocí numpy\n",
    "num_tries = 1000\n",
    "times1 = []\n",
    "times2 = []\n",
    "\n",
    "for i in range(num_tries):\n",
    "    vector1 = np.random.randint(1, 10, size=10000)\n",
    "    vector2 = np.random.randint(1, 10, size=10000)\n",
    "    start_time = timer()\n",
    "    scalar_product(vector1, vector2)\n",
    "    end_time = timer()\n",
    "    times1.append(end_time - start_time)\n",
    "\n",
    "    start_time = timer()\n",
    "    np_scalar_product(vector1, vector2)\n",
    "    end_time = timer()\n",
    "    times2.append(end_time - start_time)\n",
    "\n",
    "# Výpočet průměrného času pro každou funkci\n",
    "avg_time1 = sum(times1) / num_tries\n",
    "avg_time2 = sum(times2) / num_tries\n",
    "\n",
    "print(f\"Průměrný čas pro výpočet skalárního součinu v {num_tries} pokusech čistý python: {avg_time1 * 1000} ms\")\n",
    "print(f\"Průměrný čas pro výpočet skalárního součinu v {num_tries} pokusech numpy: {avg_time2 * 1000} ms\")"
   ]
  },
  {
   "cell_type": "markdown",
   "metadata": {},
   "source": [
    "## Vektorový součin\n",
    "### Změříme čas výpočtu vektorového součinu vektorů pomocí čístého pythonu a pomocí numpy"
   ]
  },
  {
   "cell_type": "code",
   "execution_count": 4,
   "metadata": {
    "ExecuteTime": {
     "end_time": "2023-08-20T11:25:44.300324200Z",
     "start_time": "2023-08-20T11:25:44.270852200Z"
    }
   },
   "outputs": [
    {
     "name": "stdout",
     "output_type": "stream",
     "text": [
      "Průměrný čas pro výpočet vektorového součinu v 1000 pokusech čistý python: 0.003869499997563253 ms\n",
      "Průměrný čas pro výpočet vektorového součinu v 1000 pokusech numpy: 0.06526670000357626 ms\n"
     ]
    }
   ],
   "source": [
    "# vektorový součin pomocí čistého pythonu\n",
    "def vector_product_python(x, y):\n",
    "    result = [x[1] * y[2] - x[2] * y[1],\n",
    "              x[2] * y[0] - x[0] * y[2],\n",
    "              x[0] * y[1] - x[1] * y[0]]\n",
    "\n",
    "    return result\n",
    "\n",
    "# vektorový součin pomocí numpy\n",
    "def vector_product_numpy(x, y):\n",
    "    result = np.cross(x, y)\n",
    "    return result\n",
    "\n",
    "# vytvoříme náhodné vektory\n",
    "\n",
    "num_tries = 1000\n",
    "times1 = []\n",
    "times2 = []\n",
    "\n",
    "for i in range(num_tries):\n",
    "    vector1 = np.random.randint(1, 10, size=3)\n",
    "    vector2 = np.random.randint(1, 10, size=3)\n",
    "    start_time = timer()\n",
    "    vector_product_python(vector1, vector2)\n",
    "    end_time = timer()\n",
    "    times1.append(end_time - start_time)\n",
    "\n",
    "    start_time = timer()\n",
    "    vector_product_numpy(vector1, vector2)\n",
    "    end_time = timer()\n",
    "    times2.append(end_time - start_time)\n",
    "\n",
    "avg_time1 = sum(times1) / num_tries\n",
    "avg_time2 = sum(times2) / num_tries\n",
    "\n",
    "print(f\"Průměrný čas pro výpočet vektorového součinu v {num_tries} pokusech čistý python: {avg_time1 * 1000} ms\")\n",
    "\n",
    "print(f\"Průměrný čas pro výpočet vektorového součinu v {num_tries} pokusech numpy: {avg_time2 * 1000} ms\")\n"
   ]
  },
  {
   "attachments": {},
   "cell_type": "markdown",
   "metadata": {},
   "source": [
    "## Určitý integrál\n",
    "### Změříme čas výpočtu určitého integrálu pomocí čístého pythonu a pomocí scipy"
   ]
  },
  {
   "cell_type": "code",
   "execution_count": 14,
   "metadata": {
    "is_executing": true
   },
   "outputs": [
    {
     "name": "stdout",
     "output_type": "stream",
     "text": [
      "Průměrný čas pro výpočet určitého integrálu v 1000 pokusech čístem pythonu: 1.6869185999967158 ms\n",
      "Průměrný čas pro výpočet určitého integrálu v 1000 pokusech pomocí numpy: 0.03948170000467144 ms\n"
     ]
    }
   ],
   "source": [
    "# Definice funkce pro integraci\n",
    "def f(x):\n",
    "    return sc.stats.uniform.rvs(loc=0, scale=1) * x**2\n",
    "\n",
    "# Výpočet určitého integrálu f(x) z bodu a do bodu b pomocí čistého jazyka Python\n",
    "def definite_integral_python(f, a, b, n=100):\n",
    "    dx = (b - a) / n\n",
    "    result = 0\n",
    "    for i in range(n):\n",
    "        x = a + i * dx\n",
    "        result += f(x) * dx\n",
    "    return result\n",
    "\n",
    "# Výpočet určitého integrálu f(x) z bodu a do bodu b pomocí scipy.integrate.quad\n",
    "def definite_integral_scipy(f, a, b):\n",
    "    result, error = sc.integrate.fixed_quad(f, a, b, n=5)\n",
    "    return result\n",
    "\n",
    "# Čas provedení obou funkcí na 1000 pokusů\n",
    "num_tries = 1000\n",
    "times1 = []\n",
    "times2 = []\n",
    "\n",
    "for i in range(num_tries):\n",
    "    f = lambda x: sc.stats.uniform.rvs(loc=0, scale=1) * x**2\n",
    "    a = sc.stats.uniform.rvs(loc=0, scale=1)\n",
    "    b = sc.stats.uniform.rvs(loc=0, scale=1)\n",
    "    start_time = timer()\n",
    "    definite_integral_python(f, a, b)\n",
    "    end_time = timer()\n",
    "    times1.append(end_time - start_time)\n",
    "\n",
    "    start_time = timer()\n",
    "    definite_integral_scipy(f, a, b)\n",
    "    end_time = timer()\n",
    "    times2.append(end_time - start_time)\n",
    "\n",
    "# Výpočet průměrného času pro každou funkci\n",
    "avg_time1 = sum(times1) / num_tries\n",
    "avg_time2 = sum(times2) / num_tries\n",
    "\n",
    "print(f\"Průměrný čas pro výpočet určitého integrálu v {num_tries} pokusech čístem pythonu: {avg_time1 * 1000} ms\")\n",
    "print(f\"Průměrný čas pro výpočet určitého integrálu v {num_tries} pokusech pomocí numpy: {avg_time2 * 1000} ms\")"
   ]
  },
  {
   "attachments": {},
   "cell_type": "markdown",
   "metadata": {},
   "source": [
    "## Derivace\n",
    "### Změříme čas výpočtu derivace pomocí čístého pythonu a pomocí sympy"
   ]
  },
  {
   "cell_type": "code",
   "execution_count": 18,
   "metadata": {
    "ExecuteTime": {
     "end_time": "2023-08-20T11:57:01.750831300Z",
     "start_time": "2023-08-20T11:57:00.927412200Z"
    }
   },
   "outputs": [
    {
     "name": "stdout",
     "output_type": "stream",
     "text": [
      "Průměrný čas pro výpočet derivace v 1000 pokusech čistý python: 0.002294800001891417 ms\n",
      "Průměrný čas pro výpočet derivace v 1000 pokusech sympy: 0.8372878999971363 ms\n"
     ]
    }
   ],
   "source": [
    "def f(x):\n",
    "    return x**x\n",
    "\n",
    "# derivace pomocí čistého pythonu\n",
    "def derivative_python(f, x, h=0.000000001):\n",
    "    return (f(x + h) - f(x - h)) / (2 * h)\n",
    "\n",
    "# derivace pomocí sympy\n",
    "def derivative_sympy(f, x1):\n",
    "    x = sp.Symbol('x')\n",
    "    dx = sp.diff(f(x), x)\n",
    "    ddx = sp.lambdify(x, dx)\n",
    "    return ddx(x1)\n",
    "\n",
    "# Čas pro výpočet derivace pomocí čistého pythonu a pomocí sympy\n",
    "num_tries = 1000\n",
    "times1 = []\n",
    "times2 = []\n",
    "\n",
    "for i in range(num_tries):\n",
    "    x = np.random.randint(1, 10)\n",
    "    start_time = timer()\n",
    "    derivative_python(f, x)\n",
    "    end_time = timer()\n",
    "    times1.append(end_time - start_time)\n",
    "\n",
    "    start_time = timer()\n",
    "    derivative_sympy(f, x)\n",
    "    end_time = timer()\n",
    "    times2.append(end_time - start_time)\n",
    "    \n",
    "avg_time1 = sum(times1) / num_tries\n",
    "avg_time2 = sum(times2) / num_tries\n",
    "\n",
    "print(f\"Průměrný čas pro výpočet derivace v {num_tries} pokusech čistý python: {avg_time1 * 1000} ms\")\n",
    "print(f\"Průměrný čas pro výpočet derivace v {num_tries} pokusech sympy: {avg_time2 * 1000} ms\")"
   ]
  },
  {
   "attachments": {},
   "cell_type": "markdown",
   "metadata": {},
   "source": [
    "## Faktoriál\n",
    "### Změříme čas výpočtu faktoriálu pomocí čístého pythonu a pomocí numpy"
   ]
  },
  {
   "cell_type": "code",
   "execution_count": 22,
   "metadata": {
    "ExecuteTime": {
     "end_time": "2023-08-20T11:57:49.282824900Z",
     "start_time": "2023-08-20T11:57:49.277818400Z"
    }
   },
   "outputs": [
    {
     "name": "stdout",
     "output_type": "stream",
     "text": [
      "Průměrný čas výpočtu faktoriálu v čístem pythonu: 0.0679162999986147 ms v 1000 pokusech\n",
      "Průměrný čas výpočtu faktoriálu pomocí numpy: 0.012810099994567281 ms v 1000 pokusech\n"
     ]
    }
   ],
   "source": [
    "# faktoriál pomocí čistého pythonu\n",
    "def factorial_python(n):\n",
    "    if n == 0:\n",
    "        return 1\n",
    "    else:\n",
    "        result = 1\n",
    "        for i in range(1, n+1):\n",
    "            result *= i\n",
    "        return result\n",
    "\n",
    "# faktoriál pomocí numpy\n",
    "def factorial_numpy(n):\n",
    "    return np.math.factorial(n)\n",
    "\n",
    "num_tries = 1000\n",
    "times1 = []\n",
    "times2 = []\n",
    "\n",
    "# změříme čas výpočtu pomocí čistého pythonu\n",
    "for i in range(num_tries):\n",
    "    n = np.random.randint(1, 1000)\n",
    "    start = timer()\n",
    "    factorial_python(n)\n",
    "    end = timer()\n",
    "    times1.append(end - start)\n",
    "\n",
    "    # změříme čas výpočtu pomocí numpy\n",
    "    start = timer()\n",
    "    factorial_numpy(n)\n",
    "    end = timer()\n",
    "    times2.append(end - start)\n",
    "\n",
    "avg_time1 = sum(times1) / num_tries\n",
    "avg_time2 = sum(times2) / num_tries\n",
    "\n",
    "print(f\"Průměrný čas výpočtu faktoriálu v čístem pythonu: {avg_time1 * 1000} ms v {num_tries} pokusech\")\n",
    "print(f\"Průměrný čas výpočtu faktoriálu pomocí numpy: {avg_time2 * 1000} ms v {num_tries} pokusech\")\n"
   ]
  }
 ],
 "metadata": {
  "kernelspec": {
   "display_name": "Python 3 (ipykernel)",
   "language": "python",
   "name": "python3"
  },
  "language_info": {
   "codemirror_mode": {
    "name": "ipython",
    "version": 3
   },
   "file_extension": ".py",
   "mimetype": "text/x-python",
   "name": "python",
   "nbconvert_exporter": "python",
   "pygments_lexer": "ipython3",
   "version": "3.11.4"
  }
 },
 "nbformat": 4,
 "nbformat_minor": 4
}
