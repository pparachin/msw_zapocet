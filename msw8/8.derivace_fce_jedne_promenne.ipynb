{
 "cells": [
  {
   "cell_type": "markdown",
   "id": "f6f52768ed5201c9",
   "metadata": {
    "collapsed": false
   },
   "source": [
    "# 8. Derivace funkce jedné proměnné\n",
    "\n",
    "## Porovnání numerické derivace s pevným krokem, numerické derivace s adaptivním krokem a analytické derivace"
   ]
  },
  {
   "cell_type": "markdown",
   "id": "ec322cb172dd9cb2",
   "metadata": {
    "collapsed": false
   },
   "source": [
    "### Funkce f(x) = x^2"
   ]
  },
  {
   "cell_type": "code",
   "execution_count": 2,
   "id": "a8de5702a61c2abe",
   "metadata": {
    "collapsed": false,
    "ExecuteTime": {
     "end_time": "2023-08-25T13:40:35.235263300Z",
     "start_time": "2023-08-25T13:40:35.212809400Z"
    }
   },
   "outputs": [
    {
     "name": "stdout",
     "output_type": "stream",
     "text": [
      "Výsledek numerické derivace s pevným krokem: 6.000000000000005\n",
      "Výsledek numerické derivace s adaptivním krokem: 5.999999999999979\n",
      "Výsledek analytické derivace: 6\n"
     ]
    }
   ],
   "source": [
    "def function(x):\n",
    "    return x**2\n",
    "\n",
    "def analytical_derivative(x):\n",
    "    return 2*x\n",
    "\n",
    "def numerical_derivative(f, x, h):\n",
    "    return (f(x + h) - f(x - h)) / (2*h)\n",
    "\n",
    "def adaptive_derivative(f, x, h, tol=1e-5, max_iterations=100):\n",
    "    for _ in range(max_iterations):\n",
    "        df1 = numerical_derivative(f, x, h)\n",
    "        df2 = numerical_derivative(f, x, h/2)\n",
    "        if abs(df1 - df2) < tol:\n",
    "            return df2\n",
    "        h /= 2\n",
    "    return df2\n",
    "\n",
    "x = 3\n",
    "h = 0.1\n",
    "\n",
    "static_step_result = numerical_derivative(function, x, h)\n",
    "adaptive_step_result = adaptive_derivative(function, x, h)\n",
    "analytical_result = analytical_derivative(x)\n",
    "\n",
    "print(f\"Výsledek numerické derivace s pevným krokem: {static_step_result}\")\n",
    "print(f\"Výsledek numerické derivace s adaptivním krokem: {adaptive_step_result}\")\n",
    "print(f\"Výsledek analytické derivace: {analytical_result}\")\n",
    "\n"
   ]
  },
  {
   "cell_type": "markdown",
   "id": "83c6d6ac17597e01",
   "metadata": {
    "collapsed": false
   },
   "source": [
    "### Funkce f(x) = sin(x);\n",
    "V bodě: x = π/4 "
   ]
  },
  {
   "cell_type": "code",
   "execution_count": 3,
   "id": "a21b296b56590765",
   "metadata": {
    "collapsed": false,
    "ExecuteTime": {
     "end_time": "2023-08-25T13:40:35.244388800Z",
     "start_time": "2023-08-25T13:40:35.224929Z"
    }
   },
   "outputs": [
    {
     "name": "stdout",
     "output_type": "stream",
     "text": [
      "Výsledek numerické derivace s pevným krokem: 0.7059288589999413\n",
      "Výsledek numerické derivace s adaptivním krokem: 0.7071056302971712\n",
      "Výsledek analytické derivace: 0.7071067811865476\n"
     ]
    }
   ],
   "source": [
    "import numpy as np\n",
    "\n",
    "def function_sin(x):\n",
    "    return np.sin(x)\n",
    "\n",
    "def analytical_derivative_sin(x):\n",
    "    return np.cos(x)\n",
    "\n",
    "x_point_sin = np.pi/4\n",
    "\n",
    "static_step_result_sin = numerical_derivative(function_sin, x_point_sin, h)\n",
    "adaptive_step_result_sin = adaptive_derivative(function_sin, x_point_sin, h)\n",
    "analytical_result_sin = analytical_derivative_sin(x_point_sin)\n",
    "\n",
    "print(f\"Výsledek numerické derivace s pevným krokem: {static_step_result_sin}\")\n",
    "print(f\"Výsledek numerické derivace s adaptivním krokem: {adaptive_step_result_sin}\")\n",
    "print(f\"Výsledek analytické derivace: {analytical_result_sin}\")"
   ]
  },
  {
   "cell_type": "markdown",
   "id": "4cb27fc1-5399-4547-8951-6b91c6d3647b",
   "metadata": {
    "collapsed": false
   },
   "source": [
    "### Funkce f(x) = e^x; x = 1\n",
    "V bodě: x = 1"
   ]
  },
  {
   "cell_type": "code",
   "execution_count": 4,
   "id": "1b693204-3df6-4874-85a2-9c8c7c3a6c1a",
   "metadata": {
    "ExecuteTime": {
     "end_time": "2023-08-25T13:40:35.258464200Z",
     "start_time": "2023-08-25T13:40:35.227815500Z"
    }
   },
   "outputs": [
    {
     "name": "stdout",
     "output_type": "stream",
     "text": [
      "Výsledek numerické derivace s pevným krokem: 2.7228145639474177\n",
      "Výsledek numerické derivace s adaptivním krokem: 2.7182829345308335\n",
      "Výsledek analytické derivace: 2.718281828459045\n"
     ]
    }
   ],
   "source": [
    "def function_exp(x):\n",
    "    return np.exp(x)\n",
    "\n",
    "def analytical_derivative_exp(x):\n",
    "    return np.exp(x)\n",
    "\n",
    "x_point_exp = 1\n",
    "\n",
    "static_step_result_exp = numerical_derivative(function_exp, x_point_exp, h)\n",
    "adaptive_step_result_exp = adaptive_derivative(function_exp, x_point_exp, h)\n",
    "analytical_result_exp = analytical_derivative_exp(x_point_exp)\n",
    "\n",
    "print(f\"Výsledek numerické derivace s pevným krokem: {static_step_result_exp}\")\n",
    "print(f\"Výsledek numerické derivace s adaptivním krokem: {adaptive_step_result_exp}\")\n",
    "print(f\"Výsledek analytické derivace: {analytical_result_exp}\")"
   ]
  },
  {
   "cell_type": "markdown",
   "id": "ead1c516-1621-4954-990f-2cc13bd9f8b0",
   "metadata": {},
   "source": [
    "### Funkce f(x) = ln(x)\n",
    "V bodě: x = 2"
   ]
  },
  {
   "cell_type": "code",
   "execution_count": 5,
   "outputs": [
    {
     "name": "stdout",
     "output_type": "stream",
     "text": [
      "Výsledek numerické derivace s pevným krokem: 0.5004172927849132\n",
      "Výsledek numerické derivace s adaptivním krokem: 0.5000016276137043\n",
      "Výsledek analytické derivace: 0.5\n"
     ]
    }
   ],
   "source": [
    "def function_log(x):\n",
    "    return np.log(x)\n",
    "\n",
    "def analytical_derivative_log(x):\n",
    "    return 1/x\n",
    "\n",
    "# Test point\n",
    "x_point_log = 2\n",
    "\n",
    "static_step_result_log = numerical_derivative(function_log, x_point_log, h)\n",
    "adaptive_step_result_log = adaptive_derivative(function_log, x_point_log, h)\n",
    "analytical_result_log = analytical_derivative_log(x_point_log)\n",
    "\n",
    "print(f\"Výsledek numerické derivace s pevným krokem: {static_step_result_log}\")\n",
    "print(f\"Výsledek numerické derivace s adaptivním krokem: {adaptive_step_result_log}\")\n",
    "print(f\"Výsledek analytické derivace: {analytical_result_log}\")\n"
   ],
   "metadata": {
    "collapsed": false,
    "ExecuteTime": {
     "end_time": "2023-08-25T13:40:35.298087500Z",
     "start_time": "2023-08-25T13:40:35.236262300Z"
    }
   },
   "id": "371efd46ec75ff50"
  }
 ],
 "metadata": {
  "kernelspec": {
   "display_name": "Python 3 (ipykernel)",
   "language": "python",
   "name": "python3"
  },
  "language_info": {
   "codemirror_mode": {
    "name": "ipython",
    "version": 3
   },
   "file_extension": ".py",
   "mimetype": "text/x-python",
   "name": "python",
   "nbconvert_exporter": "python",
   "pygments_lexer": "ipython3",
   "version": "3.11.4"
  }
 },
 "nbformat": 4,
 "nbformat_minor": 5
}
